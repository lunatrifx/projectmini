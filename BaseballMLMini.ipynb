{
  "nbformat": 4,
  "nbformat_minor": 0,
  "metadata": {
    "colab": {
      "provenance": [],
      "gpuType": "T4",
      "mount_file_id": "1CCIZt3Of1UFZkn_6z5FlPvy6Et6cLsOz",
      "authorship_tag": "ABX9TyOQCoRuWBpsgAg+uzrdlvgl",
      "include_colab_link": true
    },
    "kernelspec": {
      "name": "python3",
      "display_name": "Python 3"
    },
    "language_info": {
      "name": "python"
    },
    "accelerator": "GPU"
  },
  "cells": [
    {
      "cell_type": "markdown",
      "metadata": {
        "id": "view-in-github",
        "colab_type": "text"
      },
      "source": [
        "<a href=\"https://colab.research.google.com/github/lunatrifx/projectmini/blob/main/BaseballMLMini.ipynb\" target=\"_parent\"><img src=\"https://colab.research.google.com/assets/colab-badge.svg\" alt=\"Open In Colab\"/></a>"
      ]
    },
    {
      "cell_type": "code",
      "source": [
        "pip install ipywebrtc"
      ],
      "metadata": {
        "colab": {
          "base_uri": "https://localhost:8080/"
        },
        "id": "UHydyLd94If8",
        "outputId": "5e2c765b-fd7b-47e1-bd76-cbc7b9e50741"
      },
      "execution_count": null,
      "outputs": [
        {
          "output_type": "stream",
          "name": "stdout",
          "text": [
            "Looking in indexes: https://pypi.org/simple, https://us-python.pkg.dev/colab-wheels/public/simple/\n",
            "Collecting ipywebrtc\n",
            "  Downloading ipywebrtc-0.6.0-py2.py3-none-any.whl (260 kB)\n",
            "\u001b[2K     \u001b[90m━━━━━━━━━━━━━━━━━━━━━━━━━━━━━━━━━━━━━━\u001b[0m \u001b[32m260.7/260.7 kB\u001b[0m \u001b[31m18.5 MB/s\u001b[0m eta \u001b[36m0:00:00\u001b[0m\n",
            "\u001b[?25hInstalling collected packages: ipywebrtc\n",
            "Successfully installed ipywebrtc-0.6.0\n"
          ]
        }
      ]
    },
    {
      "cell_type": "code",
      "execution_count": null,
      "metadata": {
        "id": "jtMJdSzam-sk"
      },
      "outputs": [],
      "source": [
        "import numpy as np\n",
        "import tensorflow as tf\n",
        "import pandas as pd\n",
        "import cv2\n",
        "from google.colab.patches import cv2_imshow\n",
        "from google.colab import output\n",
        "from IPython.display import Javascript as js\n",
        "import ipywebrtc"
      ]
    },
    {
      "cell_type": "markdown",
      "source": [
        "# Step 1: Prepare the dataset\n",
        "# Assume you have a dataset of pitches with corresponding features and labels\n",
        "# X_train: input features, y_train: corresponding pitch labels (0 for ball, 1 for strike)\n",
        "\n",
        "# Step 2: Preprocess the data (if required)\n",
        "# Perform any necessary data preprocessing, such as normalization or encoding"
      ],
      "metadata": {
        "id": "ToJ6VdcunQr4"
      }
    },
    {
      "cell_type": "code",
      "source": [
        "# Step 3: Building the neural network model \n",
        "model = tf.keras.models.Sequential([\n",
        "    tf.keras.layers.Dense(64, activation = 'relu', input_shape=(4,)),\n",
        "    tf.keras.layers.Dense(1, activation='sigmoid')\n",
        "])"
      ],
      "metadata": {
        "id": "bf5MQ6nxndWh"
      },
      "execution_count": null,
      "outputs": []
    },
    {
      "cell_type": "code",
      "source": [
        "# Step 4: Complile and train the model \n",
        "\n",
        "# Load the CSV file \n",
        "data = pd.read_excel('pitch_data.xlsx')\n",
        "X_train = data[['feature1', 'feature2', 'feature3', 'feature4']].values\n",
        "y_train = data['label'].values\n",
        "\n",
        "# Extract the input features (X_train) and labels (y_train) from the data\n",
        "model.compile(optimizer='adam', loss='binary_crossentropy', metrics=['accuracy'])\n",
        "model.fit(X_train, y_train, epochs=10, batch_size=32)"
      ],
      "metadata": {
        "id": "fM_tjI-Lnj2M"
      },
      "execution_count": null,
      "outputs": []
    },
    {
      "cell_type": "code",
      "source": [
        "# Pre Step 5: Requesting Access to Webcam\n",
        "def request_webcam():\n",
        "  js_code = \"\"\"\n",
        "    async function requestWebcam() {\n",
        "        const stream = await navigator.mediaDevices.getUserMedia({video: true});\n",
        "        const track = stream.getVideoTracks()[0];\n",
        "        const imageCapture = new ImageCapture(track);\n",
        "        return Object.assign(track.getSettings(), {\n",
        "            stop: () => {\n",
        "                track.stop();\n",
        "                stream.getVideoTracks()[0].stop();\n",
        "            },\n",
        "            grabFrame: () => imageCapture.grabFrame()\n",
        "        });\n",
        "    }\n",
        "\n",
        "    const webcam = await requestWebcam();\n",
        "    webcam\n",
        "    \"\"\"\n",
        "  return output.eval_js(js_code)\n",
        "\n",
        "# Request access to the webcam and get the webcam object\n",
        "  webcam = request_webcam()"
      ],
      "metadata": {
        "id": "W3ODnL5W0pto"
      },
      "execution_count": null,
      "outputs": []
    },
    {
      "cell_type": "code",
      "source": [
        "# Pre Step 5: Verify Access to webcam \n",
        "\n",
        "# Create a WebRTC video stream object\n",
        "video_stream = ipywebrtc.VideoStream.from_file('/content/drive/MyDrive/Maripads.mp4')\n",
        "\n",
        "# Create an OpenCV video capture object\n",
        "cap = cv2.VideoCapture(video_stream)\n",
        "\n",
        "while True:\n",
        "    ret, frame = cap.read()  # Read a frame from the video capture\n",
        "\n",
        "    if ret:\n",
        "        cv2.imshow(\"Frame\", frame)  # Display the frame\n",
        "\n",
        "    key = cv2.waitKey(1)\n",
        "    if key == ord('q'):\n",
        "        break\n",
        "\n",
        "# Release the video capture and close any open windows\n",
        "cap.release()\n",
        "cv2.destroyAllWindows()\n"
      ],
      "metadata": {
        "id": "Qa5d_w_Y2Fkc"
      },
      "execution_count": null,
      "outputs": []
    },
    {
      "cell_type": "code",
      "source": [
        "# Step 5: Real-time prediction \n",
        "# Prompt for new pitch data \n",
        "# Set up the game overlay and capture the video stream\n",
        "cap = cv2.VideoCapture(0)\n",
        "\n",
        "while True:\n",
        "    # Capture the current frame\n",
        "    ret, frame = cap.read()\n",
        "\n",
        "# Check if frame reading was successful\n",
        "    if not ret:\n",
        "        print(\"Failed to read frame\")\n",
        "        break\n",
        "\n",
        "    # Display the frame\n",
        "    cv2.imshow(\"Frame\", frame)\n",
        "\n",
        "    # Perform other operations with the frame\n",
        "\n",
        "    # Break the loop if a certain condition is met\n",
        "\n",
        "    # Handle key press events\n",
        "    key = cv2.waitKey(1)\n",
        "    if key == ord('q'):\n",
        "        break\n",
        "\n",
        "    # Preprocess the ROI if needed (e.g., resize, crop, filter)\n",
        "\n",
        "    # Extract pitch features from the ROI using computer vision techniques\n",
        "\n",
        "    # Prepare the input data\n",
        "    new_data = np.array([pitch_data.xlsx]).astype('float32')  # Modify this line with the extracted pitch features\n",
        "\n",
        "    # Make the prediction\n",
        "    prediction = model.predict(new_data)\n",
        "    predicted_label = \"Ball\" if prediction[0] < 0.5 else \"Strike\"\n",
        "    prediction_probability = 1 - prediction[0] if predicted_label == \"Strike\" else prediction[0]\n",
        "\n",
        "    # Print the predicted label and its probability\n",
        "    print(\"Predicted Label:\", predicted_label)\n",
        "    print(\"Probability:\", prediction_probability)\n",
        "    # Display the prediction or perform further actions\n",
        "\n",
        "    # Show the frame with overlays or additional visual feedback\n",
        "\n",
        "    # Break the loop if a certain condition is met (e.g., key press, game end)\n",
        "\n",
        "    # Close the video stream and clean up resources\n",
        "    cap.release()\n",
        "    cv2.destroyAllWindows()"
      ],
      "metadata": {
        "colab": {
          "base_uri": "https://localhost:8080/"
        },
        "id": "Ud5UvU_VoorG",
        "outputId": "fd745cd5-8797-4d73-e54b-b45c9bb0a0ed"
      },
      "execution_count": null,
      "outputs": [
        {
          "output_type": "stream",
          "name": "stdout",
          "text": [
            "Failed to read frame\n"
          ]
        }
      ]
    }
  ]
}